{
 "cells": [
  {
   "cell_type": "code",
   "execution_count": 3,
   "metadata": {},
   "outputs": [
    {
     "name": "stdout",
     "output_type": "stream",
     "text": [
      "\n",
      "\t\tLab 3\n",
      "\tMessage Integrity\n",
      "\n",
      "1.\n",
      "\ta) Key: CC3078 Msg: Cifrado de informacion seccion 10\n",
      "\n",
      "\t\tEncrypted:  806c6e18554e70a4ab8ac88c9f644566faee92e0af00baf63e5e2933fa6ca9cd\n",
      "\t\t The message 'b'Cifrado de informacion seccion 10'' is authentic\n",
      "\n",
      "2.\n",
      "\tb) Key: MAC Msg: La implementacion de este ejercicio fue sencilla\n",
      "\n",
      "\t\tEncrypted:  665737ebf33ecf5e48b6c14fbaca2612c0bf9bf93d240bfd2dab9fe669900541\n",
      "\t\t The message 'b'La implementacion de este ejercicio fue sencilla'' is authentic\n"
     ]
    }
   ],
   "source": [
    "from Crypto.Hash import HMAC, SHA256\n",
    "\n",
    "def encrypt(key, msg):\n",
    "    '''Encrypt msg with specific key'''\n",
    "    \n",
    "    h = HMAC.new(key, digestmod=SHA256)\n",
    "    h.update(msg)\n",
    "\n",
    "    return h\n",
    "\n",
    "def verifyMac(h, msg):\n",
    "    '''Verify if MAC is valid'''\n",
    "    try:\n",
    "        h.hexverify(h.hexdigest())\n",
    "        return \"The message '%s' is authentic\" % msg\n",
    "    except ValueError:\n",
    "        return \"The message or the key is wrong\"\n",
    "\n",
    "print('\\n\\t\\tLab 3\\n\\tMessage Integrity')\n",
    "\n",
    "print('\\n1.\\n\\ta) Key: CC3078 Msg: Cifrado de informacion seccion 10')\n",
    "\n",
    "k1 = b'CC3078'\n",
    "msg1 = b'Cifrado de informacion seccion 10'\n",
    "\n",
    "h = encrypt(k1, msg1)\n",
    "\n",
    "print('\\n\\t\\tEncrypted: ', h.hexdigest())\n",
    "\n",
    "print(\"\\t\\t\", verifyMac(h, msg1))\n",
    "\n",
    "print('\\n2.\\n\\tb) Key: MAC Msg: La implementacion de este ejercicio fue sencilla')\n",
    "\n",
    "k2 = b'MAC'\n",
    "msg2 = b'La implementacion de este ejercicio fue sencilla'\n",
    "\n",
    "h2 = encrypt(k2, msg2)\n",
    "\n",
    "print('\\n\\t\\tEncrypted: ', h2.hexdigest())\n",
    "\n",
    "print(\"\\t\\t\", verifyMac(h2, msg2))\n"
   ]
  },
  {
   "cell_type": "code",
   "execution_count": null,
   "metadata": {},
   "outputs": [],
   "source": []
  }
 ],
 "metadata": {
  "kernelspec": {
   "display_name": "Python 3",
   "language": "python",
   "name": "python3"
  },
  "language_info": {
   "codemirror_mode": {
    "name": "ipython",
    "version": 3
   },
   "file_extension": ".py",
   "mimetype": "text/x-python",
   "name": "python",
   "nbconvert_exporter": "python",
   "pygments_lexer": "ipython3",
   "version": "3.8.3"
  }
 },
 "nbformat": 4,
 "nbformat_minor": 4
}
