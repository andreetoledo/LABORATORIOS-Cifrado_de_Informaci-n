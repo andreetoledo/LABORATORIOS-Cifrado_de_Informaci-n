{
 "cells": [
  {
   "cell_type": "markdown",
   "metadata": {},
   "source": [
    "# Laboratorio 5 , Cifrado de Informacion\n",
    "### Grupo 6"
   ]
  },
  {
   "cell_type": "markdown",
   "metadata": {},
   "source": [
    "Referencias: https://sublimerobots.com/2015/01/simple-diffie-hellman-example-python/"
   ]
  },
  {
   "cell_type": "markdown",
   "metadata": {},
   "source": [
    "#### Diffie-Helman"
   ]
  },
  {
   "cell_type": "code",
   "execution_count": 4,
   "metadata": {},
   "outputs": [],
   "source": [
    "from __future__ import print_function\n",
    " \n",
    "# Variables que vamos a utilizar \n",
    "'''\n",
    "Un numero primo y una base que sean publicas\n",
    "El secreto de alice, bob.\n",
    "'''\n",
    "sharedPrime = 23    #p\n",
    "sharedBase = 5      #g\n",
    "aliceSecret = 6     #a\n",
    "bobSecret = 15      #b\n",
    " "
   ]
  },
  {
   "cell_type": "code",
   "execution_count": 5,
   "metadata": {},
   "outputs": [
    {
     "name": "stdout",
     "output_type": "stream",
     "text": [
      "Publicly Shared Variables:\n",
      "    Publicly Shared Prime:  23\n",
      "    Publicly Shared Base:   5\n"
     ]
    }
   ],
   "source": [
    "print( \"Publicly Shared Variables:\")\n",
    "print( \"    Publicly Shared Prime: \" , sharedPrime )\n",
    "print( \"    Publicly Shared Base:  \" , sharedBase )"
   ]
  },
  {
   "cell_type": "markdown",
   "metadata": {},
   "source": [
    "Alice le envia a bob la base elevada al numero secreto de alice en el modulo del numero primo compartido\n",
    "(g^a mod p)"
   ]
  },
  {
   "cell_type": "code",
   "execution_count": 6,
   "metadata": {},
   "outputs": [
    {
     "name": "stdout",
     "output_type": "stream",
     "text": [
      "\n",
      "  Alice Sends Over Public Chanel:  8\n"
     ]
    }
   ],
   "source": [
    "A = (sharedBase**aliceSecret) % sharedPrime\n",
    "print( \"\\n  Alice Sends Over Public Chanel: \" , A )\n",
    " "
   ]
  },
  {
   "cell_type": "markdown",
   "metadata": {},
   "source": [
    "Bob Sends Alice B = g^b mod p"
   ]
  },
  {
   "cell_type": "code",
   "execution_count": 8,
   "metadata": {},
   "outputs": [
    {
     "name": "stdout",
     "output_type": "stream",
     "text": [
      "Bob Sends Over Public Chanel:  19\n"
     ]
    }
   ],
   "source": [
    "B = (sharedBase ** bobSecret) % sharedPrime\n",
    "print(\"Bob Sends Over Public Chanel: \", B )"
   ]
  },
  {
   "cell_type": "markdown",
   "metadata": {},
   "source": [
    "Alice Computes Shared Secret: s = B^a mod p"
   ]
  },
  {
   "cell_type": "code",
   "execution_count": 9,
   "metadata": {},
   "outputs": [
    {
     "name": "stdout",
     "output_type": "stream",
     "text": [
      "Privately Calculated Shared Secret:\n",
      "    Alice Shared Secret:  2\n"
     ]
    }
   ],
   "source": [
    "print( \"Privately Calculated Shared Secret:\" )\n",
    "# Alice Computes Shared Secret: s = B^a mod p\n",
    "aliceSharedSecret = (B ** aliceSecret) % sharedPrime\n",
    "print( \"    Alice Shared Secret: \", aliceSharedSecret )"
   ]
  },
  {
   "cell_type": "markdown",
   "metadata": {},
   "source": [
    "Bob Computes Shared Secret: s = A^b mod p"
   ]
  },
  {
   "cell_type": "code",
   "execution_count": 12,
   "metadata": {},
   "outputs": [
    {
     "name": "stdout",
     "output_type": "stream",
     "text": [
      "    Bob Shared Secret:  2\n"
     ]
    }
   ],
   "source": [
    "\n",
    "bobSharedSecret = (A**bobSecret) % sharedPrime\n",
    "print( \"    Bob Shared Secret: \", bobSharedSecret )\n"
   ]
  },
  {
   "cell_type": "code",
   "execution_count": null,
   "metadata": {},
   "outputs": [],
   "source": []
  }
 ],
 "metadata": {
  "kernelspec": {
   "display_name": "Python 3",
   "language": "python",
   "name": "python3"
  },
  "language_info": {
   "codemirror_mode": {
    "name": "ipython",
    "version": 3
   },
   "file_extension": ".py",
   "mimetype": "text/x-python",
   "name": "python",
   "nbconvert_exporter": "python",
   "pygments_lexer": "ipython3",
   "version": "3.7.4"
  }
 },
 "nbformat": 4,
 "nbformat_minor": 2
}
